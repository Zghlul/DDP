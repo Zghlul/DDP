{
  "nbformat": 4,
  "nbformat_minor": 0,
  "metadata": {
    "colab": {
      "provenance": [],
      "authorship_tag": "ABX9TyMQyKnbutDsC5g+n/srPQWH",
      "include_colab_link": true
    },
    "kernelspec": {
      "name": "python3",
      "display_name": "Python 3"
    },
    "language_info": {
      "name": "python"
    }
  },
  "cells": [
    {
      "cell_type": "markdown",
      "metadata": {
        "id": "view-in-github",
        "colab_type": "text"
      },
      "source": [
        "<a href=\"https://colab.research.google.com/github/Zghlul/DDP/blob/main/Praktikum_5.ipynb\" target=\"_parent\"><img src=\"https://colab.research.google.com/assets/colab-badge.svg\" alt=\"Open In Colab\"/></a>"
      ]
    },
    {
      "cell_type": "code",
      "execution_count": 14,
      "metadata": {
        "colab": {
          "base_uri": "https://localhost:8080/"
        },
        "id": "HLxIOPfntffj",
        "outputId": "7bcb80c9-eb76-4500-a6ba-1e1827bd6c2f"
      },
      "outputs": [
        {
          "output_type": "stream",
          "name": "stdout",
          "text": [
            "Data sebelum revisi : ['Mobil', 'sedan', '1000cc', 'hitam', '4 Roda']\n",
            "Data setelah Revisi 1 : ['Mobil', 'sedan', '1000cc', 'hitam', '4 Roda', '1M', 'Sport Car']\n",
            "Data setelah revisi 2 : ['Mobil', 'sedan', ['BMW'], '1000cc', 'hitam', '4 Roda', ['1M', 'Sport Car']]\n"
          ]
        }
      ],
      "source": [
        "Mobil = [\"Mobil\",\"sedan\",\"1000cc\",\"hitam\",\"4 Roda\"]\n",
        "Tambahan = [\"1M\",\"Sport Car\"]\n",
        "Merk = [\"BMW\"]\n",
        "\n",
        "print(\"Data sebelum revisi :\",Mobil)\n",
        "Mobil.append(Tambahan)\n",
        "print(\"Data setelah Revisi 1 :\",Revisi1)\n",
        "Mobil.insert(2,Merk)\n",
        "print(\"Data setelah revisi 2 :\",Mobil)"
      ]
    },
    {
      "cell_type": "code",
      "source": [
        "\n",
        "print(\"\"\"\n",
        "1. Luas Persegi\n",
        "2. Luas Lingkaran\n",
        "3. Luas Segitiga\n",
        "\"\"\")\n",
        "\n",
        "pilih = int(input(\"Pilih Pilihan Diatas!\"))\n",
        "match pilih:\n",
        "   case 1:\n",
        "      sisi = float(input(\"Masukkan Panjang Sisi :\"))\n",
        "      luasP = sisi * sisi\n",
        "      print(\"Luas Persegi\",luasP)\n",
        "   case 2:\n",
        "      jari = float(input(\"Masukkan jari2 :\"))\n",
        "      luasL= 3.14 * jari\n",
        "      print(\" Luas Lingkaran\",luasL)\n",
        "   case 3:\n",
        "      alas = float(input(\"Masukkan Alas :\"))\n",
        "      tinggi = float(input(\"Masukkan Tinggi :\"))\n",
        "      luasS = alas * tinggi * 0.5\n",
        "      print(\"Luas Segitiga :\", luasS)"
      ],
      "metadata": {
        "colab": {
          "base_uri": "https://localhost:8080/"
        },
        "id": "bilOjjBqwEZk",
        "outputId": "6c1c2eb7-1d49-468c-cc24-a529979ccd50"
      },
      "execution_count": 46,
      "outputs": [
        {
          "output_type": "stream",
          "name": "stdout",
          "text": [
            "\n",
            "1. Luas Persegi\n",
            "2. Luas Lingkaran\n",
            "3. Luas Segitiga\n",
            "\n",
            "Pilih Pilihan Diatas!3\n",
            "Masukkan Alas :20\n",
            "Masukkan Tinggi :15\n",
            "Luas Segitiga : 150.0\n"
          ]
        }
      ]
    }
  ]
}